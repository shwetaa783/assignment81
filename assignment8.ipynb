{
 "cells": [
  {
   "cell_type": "code",
   "execution_count": 2,
   "id": "3d21082a-169d-4d04-a270-65ec50a1d8fb",
   "metadata": {},
   "outputs": [],
   "source": [
    "#why might you choose a deque from the collections module to implement a queue instead of using a regular pytho list?\n",
    "#Deque supports all operations much more faster than both stack and query."
   ]
  },
  {
   "cell_type": "code",
   "execution_count": 8,
   "id": "10f5ac5b-bb35-4c0d-ad82-594018608114",
   "metadata": {},
   "outputs": [
    {
     "ename": "SyntaxError",
     "evalue": "invalid syntax. Perhaps you forgot a comma? (2635985117.py, line 2)",
     "output_type": "error",
     "traceback": [
      "\u001b[0;36m  Cell \u001b[0;32mIn[8], line 2\u001b[0;36m\u001b[0m\n\u001b[0;31m    for (int i=0; i<n; i=i+1)\u001b[0m\n\u001b[0m         ^\u001b[0m\n\u001b[0;31mSyntaxError\u001b[0m\u001b[0;31m:\u001b[0m invalid syntax. Perhaps you forgot a comma?\n"
     ]
    }
   ],
   "source": [
    "#Can you explain a real world scenario where using a stack would be a more practical choice than a list for data storage and retrival?\n",
    "for (int i=0; i<n; i=i+1)\n",
    "if (str[i]=='('|| str[i]=='[' || str[i]=='{')\n",
    "    s.push(str[i]) \n",
    "    \n",
    "    else if (str[i]=='(' || str[i]==']'|| str[i]=='}')\n",
    "     \n",
    "        if(s.empty()==true)\n",
    "           return false\n",
    "        char top=s.top()\n",
    "        \n",
    "        if ((top=='('&&str[i]==')')||(top=='['&&str[i]==']'||(top=='{'&&str[i]=='}'))\n",
    "            s.pop()\n",
    "             \n",
    "            else\n",
    "                 return false"
   ]
  },
  {
   "cell_type": "code",
   "execution_count": 9,
   "id": "1c5e5ad6-652b-49b5-8cf8-2418aefce76b",
   "metadata": {},
   "outputs": [],
   "source": [
    "#what is the primary advantage of using sets in python and in what type of problem solving scenarios are they most useful?\n",
    "#it has a highly optimized method for checking wheather a specific element is contained in the set."
   ]
  },
  {
   "cell_type": "code",
   "execution_count": 10,
   "id": "e28c5559-ae80-40d0-93d3-78948d65d816",
   "metadata": {},
   "outputs": [],
   "source": [
    "#when might you choose to use an array instead of a list for string numerical data in python ?what benifits do arrays after in this context?"
   ]
  },
  {
   "cell_type": "code",
   "execution_count": 11,
   "id": "d8cad942-f38c-42a4-b967-156a24effa02",
   "metadata": {},
   "outputs": [],
   "source": [
    "#whenever you want a no of elements of the same type and you hava a fair idea of the no of elements."
   ]
  },
  {
   "cell_type": "code",
   "execution_count": null,
   "id": "8b03e052-bb51-49b2-893f-cc638280dbd1",
   "metadata": {},
   "outputs": [],
   "source": [
    "#In python,whats the primary difference between dictionarles and lists and how does this differsnce impact their use cases in programing?\n",
    "#list is ordered and mutable wheras dictionaries are unordered and mutable."
   ]
  }
 ],
 "metadata": {
  "kernelspec": {
   "display_name": "Python 3 (ipykernel)",
   "language": "python",
   "name": "python3"
  },
  "language_info": {
   "codemirror_mode": {
    "name": "ipython",
    "version": 3
   },
   "file_extension": ".py",
   "mimetype": "text/x-python",
   "name": "python",
   "nbconvert_exporter": "python",
   "pygments_lexer": "ipython3",
   "version": "3.10.8"
  }
 },
 "nbformat": 4,
 "nbformat_minor": 5
}
